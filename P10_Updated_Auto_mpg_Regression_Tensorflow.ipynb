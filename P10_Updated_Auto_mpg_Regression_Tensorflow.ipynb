{
 "cells": [
  {
   "cell_type": "markdown",
   "id": "1b4d4278",
   "metadata": {},
   "source": [
    "#### Import Libraries"
   ]
  },
  {
   "cell_type": "code",
   "execution_count": 1,
   "id": "c89072e0",
   "metadata": {
    "ExecuteTime": {
     "end_time": "2024-06-06T10:18:27.434703Z",
     "start_time": "2024-06-06T10:18:19.306710Z"
    }
   },
   "outputs": [],
   "source": [
    "import pandas as pd\n",
    "import numpy as np\n",
    "import tensorflow as tf\n",
    "from tensorflow.keras import layers, models\n",
    "from sklearn.model_selection import train_test_split\n",
    "from sklearn.preprocessing import StandardScaler\n",
    "import matplotlib.pyplot as plt\n"
   ]
  },
  {
   "cell_type": "markdown",
   "id": "163d9a1c",
   "metadata": {},
   "source": [
    "#### Load the dataset"
   ]
  },
  {
   "cell_type": "code",
   "execution_count": 2,
   "id": "dbed7c07",
   "metadata": {
    "ExecuteTime": {
     "end_time": "2024-06-06T10:18:33.569561Z",
     "start_time": "2024-06-06T10:18:33.546925Z"
    }
   },
   "outputs": [],
   "source": [
    "# Load the dataset\n",
    "url = \"auto-mpg.csv\"  # Replace with your CSV file path\n",
    "column_names = ['MPG', 'Cylinders', 'Displacement', 'Horsepower', 'Weight', 'Acceleration', 'Model Year', 'Origin']\n",
    "dataset = pd.read_csv(url, names=column_names, na_values='?', comment='\\t', sep=',', skipinitialspace=True)\n"
   ]
  },
  {
   "cell_type": "code",
   "execution_count": 3,
   "id": "64fd860d",
   "metadata": {
    "ExecuteTime": {
     "end_time": "2024-06-06T10:18:38.524057Z",
     "start_time": "2024-06-06T10:18:38.234191Z"
    }
   },
   "outputs": [
    {
     "name": "stdout",
     "output_type": "stream",
     "text": [
      "<class 'pandas.core.frame.DataFrame'>\n",
      "Index: 399 entries, mpg to 31\n",
      "Data columns (total 8 columns):\n",
      " #   Column        Non-Null Count  Dtype \n",
      "---  ------        --------------  ----- \n",
      " 0   MPG           399 non-null    object\n",
      " 1   Cylinders     399 non-null    object\n",
      " 2   Displacement  393 non-null    object\n",
      " 3   Horsepower    399 non-null    object\n",
      " 4   Weight        399 non-null    object\n",
      " 5   Acceleration  399 non-null    object\n",
      " 6   Model Year    399 non-null    object\n",
      " 7   Origin        399 non-null    object\n",
      "dtypes: object(8)\n",
      "memory usage: 28.1+ KB\n"
     ]
    }
   ],
   "source": [
    "dataset.info()"
   ]
  },
  {
   "cell_type": "code",
   "execution_count": 4,
   "id": "d687e7e9",
   "metadata": {
    "ExecuteTime": {
     "end_time": "2024-06-06T10:18:42.408365Z",
     "start_time": "2024-06-06T10:18:42.305403Z"
    }
   },
   "outputs": [
    {
     "data": {
      "text/html": [
       "<div>\n",
       "<style scoped>\n",
       "    .dataframe tbody tr th:only-of-type {\n",
       "        vertical-align: middle;\n",
       "    }\n",
       "\n",
       "    .dataframe tbody tr th {\n",
       "        vertical-align: top;\n",
       "    }\n",
       "\n",
       "    .dataframe thead th {\n",
       "        text-align: right;\n",
       "    }\n",
       "</style>\n",
       "<table border=\"1\" class=\"dataframe\">\n",
       "  <thead>\n",
       "    <tr style=\"text-align: right;\">\n",
       "      <th></th>\n",
       "      <th>MPG</th>\n",
       "      <th>Cylinders</th>\n",
       "      <th>Displacement</th>\n",
       "      <th>Horsepower</th>\n",
       "      <th>Weight</th>\n",
       "      <th>Acceleration</th>\n",
       "      <th>Model Year</th>\n",
       "      <th>Origin</th>\n",
       "    </tr>\n",
       "  </thead>\n",
       "  <tbody>\n",
       "    <tr>\n",
       "      <th>count</th>\n",
       "      <td>399</td>\n",
       "      <td>399</td>\n",
       "      <td>393</td>\n",
       "      <td>399</td>\n",
       "      <td>399</td>\n",
       "      <td>399</td>\n",
       "      <td>399</td>\n",
       "      <td>399</td>\n",
       "    </tr>\n",
       "    <tr>\n",
       "      <th>unique</th>\n",
       "      <td>6</td>\n",
       "      <td>83</td>\n",
       "      <td>94</td>\n",
       "      <td>352</td>\n",
       "      <td>96</td>\n",
       "      <td>14</td>\n",
       "      <td>4</td>\n",
       "      <td>306</td>\n",
       "    </tr>\n",
       "    <tr>\n",
       "      <th>top</th>\n",
       "      <td>4</td>\n",
       "      <td>97</td>\n",
       "      <td>150</td>\n",
       "      <td>1985</td>\n",
       "      <td>14.5</td>\n",
       "      <td>73</td>\n",
       "      <td>1</td>\n",
       "      <td>ford pinto</td>\n",
       "    </tr>\n",
       "    <tr>\n",
       "      <th>freq</th>\n",
       "      <td>204</td>\n",
       "      <td>21</td>\n",
       "      <td>22</td>\n",
       "      <td>4</td>\n",
       "      <td>23</td>\n",
       "      <td>40</td>\n",
       "      <td>249</td>\n",
       "      <td>6</td>\n",
       "    </tr>\n",
       "  </tbody>\n",
       "</table>\n",
       "</div>"
      ],
      "text/plain": [
       "        MPG Cylinders Displacement Horsepower Weight Acceleration Model Year  \\\n",
       "count   399       399          393        399    399          399        399   \n",
       "unique    6        83           94        352     96           14          4   \n",
       "top       4        97          150       1985   14.5           73          1   \n",
       "freq    204        21           22          4     23           40        249   \n",
       "\n",
       "            Origin  \n",
       "count          399  \n",
       "unique         306  \n",
       "top     ford pinto  \n",
       "freq             6  "
      ]
     },
     "execution_count": 4,
     "metadata": {},
     "output_type": "execute_result"
    }
   ],
   "source": [
    "dataset.describe()"
   ]
  },
  {
   "cell_type": "code",
   "execution_count": 5,
   "id": "483fff66",
   "metadata": {
    "ExecuteTime": {
     "end_time": "2024-06-06T10:18:45.185514Z",
     "start_time": "2024-06-06T10:18:45.161450Z"
    }
   },
   "outputs": [
    {
     "data": {
      "text/html": [
       "<div>\n",
       "<style scoped>\n",
       "    .dataframe tbody tr th:only-of-type {\n",
       "        vertical-align: middle;\n",
       "    }\n",
       "\n",
       "    .dataframe tbody tr th {\n",
       "        vertical-align: top;\n",
       "    }\n",
       "\n",
       "    .dataframe thead th {\n",
       "        text-align: right;\n",
       "    }\n",
       "</style>\n",
       "<table border=\"1\" class=\"dataframe\">\n",
       "  <thead>\n",
       "    <tr style=\"text-align: right;\">\n",
       "      <th></th>\n",
       "      <th>MPG</th>\n",
       "      <th>Cylinders</th>\n",
       "      <th>Displacement</th>\n",
       "      <th>Horsepower</th>\n",
       "      <th>Weight</th>\n",
       "      <th>Acceleration</th>\n",
       "      <th>Model Year</th>\n",
       "      <th>Origin</th>\n",
       "    </tr>\n",
       "  </thead>\n",
       "  <tbody>\n",
       "    <tr>\n",
       "      <th>mpg</th>\n",
       "      <td>cylinders</td>\n",
       "      <td>displacement</td>\n",
       "      <td>horsepower</td>\n",
       "      <td>weight</td>\n",
       "      <td>acceleration</td>\n",
       "      <td>model year</td>\n",
       "      <td>origin</td>\n",
       "      <td>car name</td>\n",
       "    </tr>\n",
       "    <tr>\n",
       "      <th>18</th>\n",
       "      <td>8</td>\n",
       "      <td>307</td>\n",
       "      <td>130</td>\n",
       "      <td>3504</td>\n",
       "      <td>12</td>\n",
       "      <td>70</td>\n",
       "      <td>1</td>\n",
       "      <td>chevrolet chevelle malibu</td>\n",
       "    </tr>\n",
       "    <tr>\n",
       "      <th>15</th>\n",
       "      <td>8</td>\n",
       "      <td>350</td>\n",
       "      <td>165</td>\n",
       "      <td>3693</td>\n",
       "      <td>11.5</td>\n",
       "      <td>70</td>\n",
       "      <td>1</td>\n",
       "      <td>buick skylark 320</td>\n",
       "    </tr>\n",
       "    <tr>\n",
       "      <th>18</th>\n",
       "      <td>8</td>\n",
       "      <td>318</td>\n",
       "      <td>150</td>\n",
       "      <td>3436</td>\n",
       "      <td>11</td>\n",
       "      <td>70</td>\n",
       "      <td>1</td>\n",
       "      <td>plymouth satellite</td>\n",
       "    </tr>\n",
       "    <tr>\n",
       "      <th>16</th>\n",
       "      <td>8</td>\n",
       "      <td>304</td>\n",
       "      <td>150</td>\n",
       "      <td>3433</td>\n",
       "      <td>12</td>\n",
       "      <td>70</td>\n",
       "      <td>1</td>\n",
       "      <td>amc rebel sst</td>\n",
       "    </tr>\n",
       "  </tbody>\n",
       "</table>\n",
       "</div>"
      ],
      "text/plain": [
       "           MPG     Cylinders Displacement Horsepower        Weight  \\\n",
       "mpg  cylinders  displacement   horsepower     weight  acceleration   \n",
       "18           8           307          130       3504            12   \n",
       "15           8           350          165       3693          11.5   \n",
       "18           8           318          150       3436            11   \n",
       "16           8           304          150       3433            12   \n",
       "\n",
       "    Acceleration Model Year                     Origin  \n",
       "mpg   model year     origin                   car name  \n",
       "18            70          1  chevrolet chevelle malibu  \n",
       "15            70          1          buick skylark 320  \n",
       "18            70          1         plymouth satellite  \n",
       "16            70          1              amc rebel sst  "
      ]
     },
     "execution_count": 5,
     "metadata": {},
     "output_type": "execute_result"
    }
   ],
   "source": [
    "dataset.head()"
   ]
  },
  {
   "cell_type": "markdown",
   "id": "46a6935d",
   "metadata": {},
   "source": [
    "#### Data Pre processing "
   ]
  },
  {
   "cell_type": "code",
   "execution_count": 6,
   "id": "bb850dc8",
   "metadata": {
    "ExecuteTime": {
     "end_time": "2024-06-06T10:18:48.384825Z",
     "start_time": "2024-06-06T10:18:48.318573Z"
    }
   },
   "outputs": [
    {
     "name": "stdout",
     "output_type": "stream",
     "text": [
      "NaN values before dropping: \n",
      " MPG             1\n",
      "Cylinders       1\n",
      "Displacement    1\n",
      "Horsepower      1\n",
      "Weight          1\n",
      "Acceleration    1\n",
      "Model Year      1\n",
      "Origin          0\n",
      "dtype: int64\n",
      "NaN values after dropping: \n",
      " MPG             0\n",
      "Cylinders       0\n",
      "Displacement    0\n",
      "Horsepower      0\n",
      "Weight          0\n",
      "Acceleration    0\n",
      "Model Year      0\n",
      "Origin          0\n",
      "dtype: int64\n"
     ]
    }
   ],
   "source": [
    "# Drop rows with missing values\n",
    "dataset = dataset.dropna()\n",
    "\n",
    "# Convert columns to appropriate numeric data types\n",
    "for column in ['MPG', 'Cylinders', 'Displacement', 'Horsepower', 'Weight', 'Acceleration', 'Model Year']:\n",
    "    dataset[column] = pd.to_numeric(dataset[column], errors='coerce')\n",
    "\n",
    "# Check for NaN values in the dataset\n",
    "print(\"NaN values before dropping: \\n\", dataset.isnull().sum())\n",
    "\n",
    "# Drop any rows with NaN values\n",
    "dataset = dataset.dropna()\n",
    "\n",
    "# Check again for NaN values to confirm\n",
    "print(\"NaN values after dropping: \\n\", dataset.isnull().sum())\n",
    "\n",
    "# Convert 'Origin' to string for one-hot encoding\n",
    "dataset['Origin'] = dataset['Origin'].astype(str)\n",
    "\n",
    "# Convert categorical 'Origin' column to one-hot encoding\n",
    "dataset = pd.get_dummies(dataset, columns=['Origin'], prefix='', prefix_sep='')"
   ]
  },
  {
   "cell_type": "markdown",
   "id": "23286640",
   "metadata": {},
   "source": [
    "#### Train test Split "
   ]
  },
  {
   "cell_type": "code",
   "execution_count": 7,
   "id": "d9878d09",
   "metadata": {
    "ExecuteTime": {
     "end_time": "2024-06-06T10:18:54.590160Z",
     "start_time": "2024-06-06T10:18:54.562092Z"
    }
   },
   "outputs": [],
   "source": [
    "# Split the dataset into training and testing sets\n",
    "train_dataset, test_dataset = train_test_split(dataset, test_size=0.2, random_state=42)\n",
    "\n",
    "# Separate features and labels\n",
    "train_features = train_dataset.copy()\n",
    "test_features = test_dataset.copy()\n",
    "train_labels = train_features.pop('MPG')\n",
    "test_labels = test_features.pop('MPG')"
   ]
  },
  {
   "cell_type": "code",
   "execution_count": 8,
   "id": "ca4f8f34",
   "metadata": {
    "ExecuteTime": {
     "end_time": "2024-06-06T10:18:59.930831Z",
     "start_time": "2024-06-06T10:18:59.913012Z"
    }
   },
   "outputs": [],
   "source": [
    "# Check for NaN values in the dataset\n",
    "assert not train_features.isnull().any().any(), \"There are NaN values in the training features\"\n",
    "assert not test_features.isnull().any().any(), \"There are NaN values in the test features\"\n",
    "assert not train_labels.isnull().any(), \"There are NaN values in the training labels\"\n",
    "assert not test_labels.isnull().any(), \"There are NaN values in the test labels\"\n"
   ]
  },
  {
   "cell_type": "markdown",
   "id": "466e75d9",
   "metadata": {},
   "source": [
    "#### Normalize Features"
   ]
  },
  {
   "cell_type": "code",
   "execution_count": 9,
   "id": "3e565f9e",
   "metadata": {
    "ExecuteTime": {
     "end_time": "2024-06-06T10:19:03.292148Z",
     "start_time": "2024-06-06T10:19:03.235752Z"
    }
   },
   "outputs": [],
   "source": [
    "# Normalize the features\n",
    "scaler = StandardScaler()\n",
    "train_features = scaler.fit_transform(train_features)\n",
    "test_features = scaler.transform(test_features)"
   ]
  },
  {
   "cell_type": "markdown",
   "id": "2c8f948e",
   "metadata": {},
   "source": [
    "#### Define the Model Architecture"
   ]
  },
  {
   "cell_type": "code",
   "execution_count": 10,
   "id": "2224cc00",
   "metadata": {
    "ExecuteTime": {
     "end_time": "2024-06-06T10:19:05.762033Z",
     "start_time": "2024-06-06T10:19:05.566598Z"
    }
   },
   "outputs": [],
   "source": [
    "def build_model():\n",
    "    model = models.Sequential([\n",
    "        layers.Dense(64, activation='relu', input_shape=[train_features.shape[1]]),\n",
    "        layers.Dense(64, activation='relu'),\n",
    "        layers.Dense(1)\n",
    "    ])\n",
    "    return model\n",
    "\n",
    "model = build_model()\n"
   ]
  },
  {
   "cell_type": "markdown",
   "id": "b15c141c",
   "metadata": {},
   "source": [
    "#### Compile the Model"
   ]
  },
  {
   "cell_type": "code",
   "execution_count": 11,
   "id": "98a9637a",
   "metadata": {
    "ExecuteTime": {
     "end_time": "2024-06-06T10:19:08.026266Z",
     "start_time": "2024-06-06T10:19:07.960457Z"
    }
   },
   "outputs": [],
   "source": [
    "model.compile(optimizer='adam',\n",
    "              loss='mse',\n",
    "              metrics=['mae', 'mse'])\n"
   ]
  },
  {
   "cell_type": "markdown",
   "id": "1da12c50",
   "metadata": {},
   "source": [
    "#### Train the Model"
   ]
  },
  {
   "cell_type": "code",
   "execution_count": 12,
   "id": "3165a681",
   "metadata": {
    "ExecuteTime": {
     "end_time": "2024-06-06T10:19:22.118314Z",
     "start_time": "2024-06-06T10:19:10.041683Z"
    }
   },
   "outputs": [
    {
     "data": {
      "image/png": "[encoded data removed]",
      "text/plain": [
       "<Figure size 1200x400 with 2 Axes>"
      ]
     },
     "metadata": {},
     "output_type": "display_data"
    }
   ],
   "source": [
    "history = model.fit(train_features, train_labels, \n",
    "                    epochs=100, validation_split=0.2, verbose=0)\n",
    "\n",
    "# Plot training history\n",
    "hist = pd.DataFrame(history.history)\n",
    "hist['epoch'] = history.epoch\n",
    "\n",
    "plt.figure(figsize=(12, 4))\n",
    "\n",
    "plt.subplot(1, 2, 1)\n",
    "plt.xlabel('Epoch')\n",
    "plt.ylabel('Mean Abs Error [MPG]')\n",
    "plt.plot(hist['epoch'], hist['mae'], label='Train Error')\n",
    "plt.plot(hist['epoch'], hist['val_mae'], label='Val Error')\n",
    "plt.legend()\n",
    "\n",
    "plt.subplot(1, 2, 2)\n",
    "plt.xlabel('Epoch')\n",
    "plt.ylabel('Mean Square Error [MPG^2]')\n",
    "plt.plot(hist['epoch'], hist['mse'], label='Train Error')\n",
    "plt.plot(hist['epoch'], hist['val_mse'], label='Val Error')\n",
    "plt.legend()\n",
    "\n",
    "plt.show()\n"
   ]
  },
  {
   "cell_type": "markdown",
   "id": "3dcb71a5",
   "metadata": {},
   "source": [
    "#### Evaluate the Model"
   ]
  },
  {
   "cell_type": "code",
   "execution_count": 13,
   "id": "92a116e1",
   "metadata": {
    "ExecuteTime": {
     "end_time": "2024-06-06T10:19:26.629744Z",
     "start_time": "2024-06-06T10:19:26.445763Z"
    }
   },
   "outputs": [
    {
     "name": "stdout",
     "output_type": "stream",
     "text": [
      "3/3 - 0s - loss: 5.7426 - mae: 1.9889 - mse: 5.7426 - 52ms/epoch - 17ms/step\n",
      "\n",
      "Test MAE: 1.99 MPG\n"
     ]
    }
   ],
   "source": [
    "test_loss, test_mae, test_mse = model.evaluate(test_features, test_labels, verbose=2)\n",
    "print(f'\\nTest MAE: {test_mae:.2f} MPG')\n"
   ]
  },
  {
   "cell_type": "markdown",
   "id": "5cc7139f",
   "metadata": {},
   "source": [
    "#### Make Predictions"
   ]
  },
  {
   "cell_type": "code",
   "execution_count": 14,
   "id": "5b417c80",
   "metadata": {
    "ExecuteTime": {
     "end_time": "2024-06-06T10:19:30.545396Z",
     "start_time": "2024-06-06T10:19:29.809810Z"
    }
   },
   "outputs": [
    {
     "name": "stdout",
     "output_type": "stream",
     "text": [
      "3/3 [==============================] - 0s 3ms/step\n"
     ]
    },
    {
     "data": {
      "image/png": "[encoded data removed]",
      "text/plain": [
       "<Figure size 640x480 with 1 Axes>"
      ]
     },
     "metadata": {},
     "output_type": "display_data"
    },
    {
     "data": {
      "image/png": "[encoded data removed]",
      "text/plain": [
       "<Figure size 640x480 with 1 Axes>"
      ]
     },
     "metadata": {},
     "output_type": "display_data"
    }
   ],
   "source": [
    "test_predictions = model.predict(test_features).flatten()\n",
    "\n",
    "plt.scatter(test_labels, test_predictions)\n",
    "plt.xlabel('True Values [MPG]')\n",
    "plt.ylabel('Predictions [MPG]')\n",
    "plt.axis('equal')\n",
    "plt.axis('square')\n",
    "plt.plot([-100, 100], [-100, 100])\n",
    "plt.show()\n",
    "\n",
    "error = test_predictions - test_labels\n",
    "plt.hist(error, bins=25)\n",
    "plt.xlabel('Prediction Error [MPG]')\n",
    "plt.ylabel('Count')\n",
    "plt.show()\n"
   ]
  },
  {
   "cell_type": "code",
   "execution_count": 15,
   "id": "152a9ef8",
   "metadata": {
    "ExecuteTime": {
     "end_time": "2024-06-06T10:20:51.976742Z",
     "start_time": "2024-06-06T10:20:51.963750Z"
    }
   },
   "outputs": [
    {
     "name": "stdout",
     "output_type": "stream",
     "text": [
      "\n",
      "Predicted vs Actual MPG values:\n",
      "Predicted: 1.33, Actual: 4.00\n",
      "Predicted: 1.69, Actual: 4.00\n",
      "Predicted: 4.12, Actual: 4.00\n",
      "Predicted: 1.36, Actual: 4.00\n",
      "Predicted: 1.94, Actual: 4.00\n",
      "Predicted: 4.14, Actual: 4.00\n",
      "Predicted: 8.92, Actual: 8.00\n",
      "Predicted: 0.91, Actual: 4.00\n",
      "Predicted: 2.69, Actual: 6.00\n",
      "Predicted: 1.09, Actual: 4.00\n",
      "Predicted: 6.17, Actual: 8.00\n",
      "Predicted: 5.75, Actual: 6.00\n",
      "Predicted: 4.98, Actual: 8.00\n",
      "Predicted: 4.17, Actual: 4.00\n",
      "Predicted: 2.53, Actual: 6.00\n",
      "Predicted: 1.36, Actual: 4.00\n",
      "Predicted: 6.02, Actual: 6.00\n",
      "Predicted: 4.09, Actual: 4.00\n",
      "Predicted: 1.85, Actual: 4.00\n",
      "Predicted: 1.47, Actual: 4.00\n",
      "Predicted: 6.06, Actual: 6.00\n",
      "Predicted: 0.94, Actual: 4.00\n",
      "Predicted: 0.93, Actual: 4.00\n",
      "Predicted: 4.65, Actual: 8.00\n",
      "Predicted: 3.91, Actual: 4.00\n",
      "Predicted: 1.65, Actual: 4.00\n",
      "Predicted: 1.55, Actual: 4.00\n",
      "Predicted: 3.23, Actual: 6.00\n",
      "Predicted: 1.14, Actual: 4.00\n",
      "Predicted: 1.47, Actual: 4.00\n",
      "Predicted: 4.84, Actual: 8.00\n",
      "Predicted: 5.10, Actual: 6.00\n",
      "Predicted: 3.29, Actual: 8.00\n",
      "Predicted: 3.98, Actual: 4.00\n",
      "Predicted: 9.01, Actual: 8.00\n",
      "Predicted: 0.82, Actual: 4.00\n",
      "Predicted: 4.58, Actual: 8.00\n",
      "Predicted: 1.39, Actual: 4.00\n",
      "Predicted: 4.43, Actual: 8.00\n",
      "Predicted: 5.66, Actual: 8.00\n",
      "Predicted: 4.44, Actual: 8.00\n",
      "Predicted: 1.22, Actual: 4.00\n",
      "Predicted: 1.11, Actual: 4.00\n",
      "Predicted: 4.03, Actual: 4.00\n",
      "Predicted: 5.21, Actual: 8.00\n",
      "Predicted: 6.70, Actual: 8.00\n",
      "Predicted: 3.26, Actual: 6.00\n",
      "Predicted: 1.11, Actual: 4.00\n",
      "Predicted: 3.86, Actual: 4.00\n",
      "Predicted: 4.16, Actual: 4.00\n",
      "Predicted: 8.06, Actual: 8.00\n",
      "Predicted: 1.51, Actual: 4.00\n",
      "Predicted: 2.07, Actual: 4.00\n",
      "Predicted: 1.08, Actual: 4.00\n",
      "Predicted: 2.52, Actual: 6.00\n",
      "Predicted: 6.46, Actual: 6.00\n",
      "Predicted: 3.43, Actual: 8.00\n",
      "Predicted: 5.88, Actual: 6.00\n",
      "Predicted: 1.66, Actual: 4.00\n",
      "Predicted: 4.35, Actual: 4.00\n",
      "Predicted: 6.90, Actual: 8.00\n",
      "Predicted: 5.86, Actual: 6.00\n",
      "Predicted: 2.28, Actual: 6.00\n",
      "Predicted: 4.23, Actual: 4.00\n",
      "Predicted: 1.28, Actual: 4.00\n",
      "Predicted: 3.13, Actual: 4.00\n",
      "Predicted: 2.06, Actual: 4.00\n",
      "Predicted: 3.95, Actual: 4.00\n",
      "Predicted: 8.36, Actual: 8.00\n",
      "Predicted: 8.84, Actual: 8.00\n",
      "Predicted: 1.84, Actual: 4.00\n",
      "Predicted: 5.19, Actual: 8.00\n",
      "Predicted: 1.78, Actual: 6.00\n",
      "Predicted: 1.44, Actual: 3.00\n",
      "Predicted: 2.48, Actual: 6.00\n",
      "Predicted: 1.92, Actual: 4.00\n",
      "Predicted: 4.77, Actual: 8.00\n",
      "Predicted: 4.29, Actual: 8.00\n",
      "Predicted: 4.06, Actual: 4.00\n"
     ]
    }
   ],
   "source": [
    "# Print predicted vs actual values\n",
    "print(\"\\nPredicted vs Actual MPG values:\")\n",
    "for predicted, actual in zip(test_predictions, test_labels):\n",
    "    print(f\"Predicted: {predicted:.2f}, Actual: {actual:.2f}\")"
   ]
  },
  {
   "cell_type": "code",
   "execution_count": null,
   "id": "7b87ece4",
   "metadata": {},
   "outputs": [],
   "source": []
  }
 ],
 "metadata": {
  "kernelspec": {
   "display_name": "Python 3 (ipykernel)",
   "language": "python",
   "name": "python3"
  },
  "language_info": {
   "codemirror_mode": {
    "name": "ipython",
    "version": 3
   },
   "file_extension": ".py",
   "mimetype": "text/x-python",
   "name": "python",
   "nbconvert_exporter": "python",
   "pygments_lexer": "ipython3",
   "version": "3.9.13"
  },
  "varInspector": {
   "cols": {
    "lenName": 16,
    "lenType": 16,
    "lenVar": 40
   },
   "kernels_config": {
    "python": {
     "delete_cmd_postfix": "",
     "delete_cmd_prefix": "del ",
     "library": "var_list.py",
     "varRefreshCmd": "print(var_dic_list())"
    },
    "r": {
     "delete_cmd_postfix": ") ",
     "delete_cmd_prefix": "rm(",
     "library": "var_list.r",
     "varRefreshCmd": "cat(var_dic_list()) "
    }
   },
   "types_to_exclude": [
    "module",
    "function",
    "builtin_function_or_method",
    "instance",
    "_Feature"
   ],
   "window_display": false
  }
 },
 "nbformat": 4,
 "nbformat_minor": 5
}
