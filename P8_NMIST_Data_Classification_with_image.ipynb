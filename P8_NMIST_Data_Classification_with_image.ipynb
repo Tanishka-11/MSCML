{
 "cells": [
  {
   "cell_type": "code",
   "execution_count": 2,
   "id": "b91f96c5",
   "metadata": {
    "ExecuteTime": {
     "end_time": "2024-01-04T11:07:25.854411Z",
     "start_time": "2024-01-04T11:02:34.996250Z"
    }
   },
   "outputs": [
    {
     "name": "stdout",
     "output_type": "stream",
     "text": [
      "(60000, 28, 28)\n",
      "Epoch 1/5\n",
      "1875/1875 [==============================] - 60s 31ms/step - loss: 0.1302 - accuracy: 0.9601\n",
      "Epoch 2/5\n",
      "1875/1875 [==============================] - 57s 30ms/step - loss: 0.0428 - accuracy: 0.9872\n",
      "Epoch 3/5\n",
      "1875/1875 [==============================] - 56s 30ms/step - loss: 0.0301 - accuracy: 0.9906\n",
      "Epoch 4/5\n",
      "1875/1875 [==============================] - 57s 30ms/step - loss: 0.0210 - accuracy: 0.9932\n",
      "Epoch 5/5\n",
      "1875/1875 [==============================] - 56s 30ms/step - loss: 0.0158 - accuracy: 0.9949\n",
      "1/1 [==============================] - 0s 165ms/step\n"
     ]
    },
    {
     "data": {
      "image/png": "[encoded data removed]",
      "text/plain": [
       "<Figure size 640x480 with 1 Axes>"
      ]
     },
     "metadata": {},
     "output_type": "display_data"
    },
    {
     "name": "stdout",
     "output_type": "stream",
     "text": [
      "Predicted Probabilities: [[0. 0. 0. 0. 0. 0. 0. 1. 0. 0.]]\n",
      "Predicted Class: 7\n"
     ]
    }
   ],
   "source": [
    "import numpy as np\n",
    "import tensorflow as tf\n",
    "from tensorflow.keras.datasets import mnist\n",
    "from tensorflow.keras.models import Sequential\n",
    "from tensorflow.keras.layers import Conv2D, MaxPooling2D, Flatten, Dense\n",
    "import matplotlib.pyplot as plt\n",
    "\n",
    "# Load and preprocess the MNIST dataset\n",
    "(x_train, y_train), (x_test, y_test) = mnist.load_data()\n",
    "print(x_train.shape)\n",
    "x_train = x_train / 255.0\n",
    "x_train = x_train.reshape(x_train.shape[0], 28, 28, 1)\n",
    "\n",
    "# Define the CNN model architecture\n",
    "model = Sequential([\n",
    "    Conv2D(32, (3, 3), activation='relu', input_shape=(28, 28, 1)),\n",
    "    MaxPooling2D((2, 2)),\n",
    "    Conv2D(64, (3, 3), activation='relu'),\n",
    "    MaxPooling2D((2, 2)),\n",
    "    Flatten(),\n",
    "    Dense(128, activation='relu'),\n",
    "    Dense(10, activation='softmax')\n",
    "])\n",
    "\n",
    "# Compile the model\n",
    "model.compile(optimizer='adam',\n",
    "              loss='sparse_categorical_crossentropy',\n",
    "              metrics=['accuracy'])\n",
    "\n",
    "# Train the model using the training data\n",
    "model.fit(x_train, y_train, epochs=5)\n",
    "\n",
    "# Choose a single image from the test set\n",
    "index = 0  # Replace with the index of the image you want to use\n",
    "single_image = x_test[index]\n",
    "input_image = np.expand_dims(single_image, axis=0)\n",
    "\n",
    "# Get the predicted probabilities for the single image\n",
    "predicted_probabilities = model.predict(input_image)\n",
    "\n",
    "# Display the input image\n",
    "plt.imshow(single_image, cmap='gray')\n",
    "plt.title('Input Image')\n",
    "plt.axis('off')\n",
    "plt.show()\n",
    "\n",
    "# Display the predicted probabilities\n",
    "print(\"Predicted Probabilities:\", predicted_probabilities)\n",
    "\n",
    "# Get the predicted class (index with highest probability)\n",
    "predicted_class = np.argmax(predicted_probabilities)\n",
    "print(\"Predicted Class:\", predicted_class)\n"
   ]
  },
  {
   "cell_type": "code",
   "execution_count": null,
   "id": "b303f69e",
   "metadata": {},
   "outputs": [],
   "source": []
  }
 ],
 "metadata": {
  "kernelspec": {
   "display_name": "Python 3 (ipykernel)",
   "language": "python",
   "name": "python3"
  },
  "language_info": {
   "codemirror_mode": {
    "name": "ipython",
    "version": 3
   },
   "file_extension": ".py",
   "mimetype": "text/x-python",
   "name": "python",
   "nbconvert_exporter": "python",
   "pygments_lexer": "ipython3",
   "version": "3.9.13"
  }
 },
 "nbformat": 4,
 "nbformat_minor": 5
}
